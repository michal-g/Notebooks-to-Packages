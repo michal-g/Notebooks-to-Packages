{
 "cells": [
  {
   "cell_type": "markdown",
   "source": [
    "We start by acquiring the data on UFO sightings. Fortunately, github user Link Wentz has been nice enough to download\n",
    "it from the website and parse it into a reasonable format, which we make available here.\n",
    "\n",
    "We notice however that there are irregularities in some of the entries, which we would like to clean up!"
   ],
   "metadata": {
    "collapsed": false
   }
  },
  {
   "cell_type": "code",
   "execution_count": null,
   "metadata": {
    "id": "GOJjSMzC5uf4"
   },
   "outputs": [],
   "source": [
    "import pandas as pd\n",
    "\n",
    "sightings = pd.read_csv('../nuforc_events_complete.csv',\n",
    "                        usecols=['event_time', 'city', 'state',\n",
    "                                 'shape', 'duration', 'summary'])\n",
    "print(sightings.head(10))\n"
   ]
  },
  {
   "cell_type": "code",
   "outputs": [],
   "source": [
    "# we will be very careful about filtering sightings that can be mapped to states\n",
    "valid_states = {\n",
    "    'AK', 'AL', 'AR', 'AZ', 'CA', 'CO', 'CT', 'DC', 'DE', 'FL', 'GA', 'HI',\n",
    "    'IA', 'ID', 'IL', 'IN', 'KS', 'KY', 'LA', 'MA', 'MD', 'ME', 'MI', 'MN',\n",
    "    'MO', 'MS', 'MT', 'NC', 'ND', 'NE', 'NH', 'NJ', 'NM', 'NV', 'NY', 'OH',\n",
    "    'OK', 'OR', 'PA', 'RI', 'SC', 'SD', 'TN', 'TX',\n",
    "    'UT', 'VA', 'VT', 'WA', 'WI', 'WV', 'WY'\n",
    "    }\n",
    "sightings = sightings.loc[sightings.state.isin(valid_states), :]\n",
    "\n",
    "# parse the date information into a more useful format\n",
    "sightings['event_time'] = pd.to_datetime(sightings.event_time,\n",
    "                                         format=\"%Y-%m-%dT%H:%M:%SZ\", errors='coerce')\n"
   ],
   "metadata": {
    "collapsed": false
   },
   "execution_count": null
  },
  {
   "cell_type": "markdown",
   "source": [
    "Let's examine the total number of sightings from across the year for each state. We see that California is a very popular destination!"
   ],
   "metadata": {
    "collapsed": false
   }
  },
  {
   "cell_type": "code",
   "execution_count": null,
   "metadata": {
    "id": "la99laOpqoH0"
   },
   "outputs": [],
   "source": [
    "import plotly.express as px\n",
    "\n",
    "\n",
    "state_totals = sightings.groupby('state').size()\n",
    "\n",
    "fig = px.choropleth(locations=[str(x) for x in state_totals.index],\n",
    "                    scope=\"usa\", locationmode=\"USA-states\",\n",
    "                    color=state_totals.values,\n",
    "                    range_color=[0, state_totals.max()])\n",
    "fig.show()\n"
   ]
  }
 ],
 "metadata": {
  "colab": {
   "private_outputs": true,
   "provenance": []
  },
  "kernelspec": {
   "name": "python3",
   "language": "python",
   "display_name": "Python 3 (ipykernel)"
  },
  "language_info": {
   "name": "python"
  },
  "gpuClass": "standard"
 },
 "nbformat": 4,
 "nbformat_minor": 0
}
