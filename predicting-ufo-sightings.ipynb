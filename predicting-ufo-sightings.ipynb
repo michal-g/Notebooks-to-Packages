{
 "cells": [
  {
   "cell_type": "markdown",
   "metadata": {
    "id": "view-in-github"
   },
   "source": [
    "<a href=\"https://colab.research.google.com/github/michal-g/Notebooks-to-Packages/blob/main/predicting-ufo-sightings.ipynb\" target=\"_parent\"><img src=\"https://colab.research.google.com/assets/colab-badge.svg\" alt=\"Open In Colab\"/></a>"
   ]
  },
  {
   "cell_type": "markdown",
   "source": [
    "We start by scraping the datasets from the sightings reports website. The reports portal contains a link to a table for each historical month"
   ],
   "metadata": {
    "collapsed": false
   }
  },
  {
   "cell_type": "code",
   "execution_count": null,
   "metadata": {
    "id": "Sr7cKWtRUXVX"
   },
   "outputs": [],
   "source": [
    "import itertools\n",
    "import re\n",
    "import requests\n",
    "from bs4 import BeautifulSoup\n",
    "\n",
    "\n",
    "base_url = 'https://nuforc.org/webreports'\n",
    "grab = requests.get('/'.join([base_url, 'ndxevent.html']))\n",
    "soup = BeautifulSoup(grab.text, 'html.parser')\n",
    "\n",
    "sightings = []\n",
    "col_labels = ['Date', 'City', 'Region', 'Country', 'Shape', 'Duration',\n",
    "              'Summary', 'Posted', 'Images']\n",
    "\n",
    "for link in soup('a', string=re.compile(\"[0-9]{2}\\/2000\")):\n",
    "  data = link.get('href')\n",
    "  grab_date = requests.get('/'.join([base_url, data]))\n",
    "  date_soup = BeautifulSoup(grab_date.text, 'html.parser')\n",
    "\n",
    "  for row in date_soup('tr'):\n",
    "    cols = row.find_all('td')\n",
    "\n",
    "    if cols:\n",
    "      cur_sighting = None\n",
    "\n",
    "      for lbl, col in zip(itertools.cycle(col_labels), cols):\n",
    "        if lbl == 'Date':\n",
    "          if cur_sighting is not None:\n",
    "            sightings.append(cur_sighting)\n",
    "\n",
    "          cur_sighting = {'Date': col.string}\n",
    "\n",
    "        else:\n",
    "          cur_sighting[lbl] = col.string\n",
    "\n",
    "      if cur_sighting is not None:\n",
    "        sightings.append(cur_sighting)\n"
   ]
  },
  {
   "cell_type": "code",
   "execution_count": null,
   "metadata": {
    "id": "GOJjSMzC5uf4"
   },
   "outputs": [],
   "source": [
    "import pandas as pd\n",
    "\n",
    "\n",
    "valid_states = {\n",
    "    'AK', 'AL', 'AR', 'AZ', 'CA', 'CO', 'CT', 'DC', 'DE', 'FL', 'GA', 'HI',\n",
    "    'IA', 'ID', 'IL', 'IN', 'KS', 'KY', 'LA', 'MA', 'MD', 'ME', 'MI', 'MN',\n",
    "    'MO', 'MS', 'MT', 'NC', 'ND', 'NE', 'NH', 'NJ', 'NM', 'NV', 'NY', 'OH',\n",
    "    'OK', 'OR', 'PA', 'RI', 'SC', 'SD', 'TN', 'TX',\n",
    "    'UT', 'VA', 'VT', 'WA', 'WI', 'WV', 'WY'\n",
    "    }\n",
    "\n",
    "sights_df = pd.DataFrame(sightings)\n",
    "sights_df = sights_df.loc[(sights_df.Country == 'USA')\n",
    "                          & sights_df.Region.isin(valid_states), :]\n",
    "sights_df['Date'] = pd.to_datetime([dt.split()[0] for dt in sights_df['Date']],\n",
    "                                   format='%m/%d/%y')\n",
    "\n",
    "print(sights_df)\n"
   ]
  },
  {
   "cell_type": "code",
   "execution_count": null,
   "metadata": {
    "id": "la99laOpqoH0"
   },
   "outputs": [],
   "source": [
    "import plotly.express as px\n",
    "\n",
    "\n",
    "counts = sights_df.groupby('Region').size()\n",
    "\n",
    "fig = px.choropleth(locations=[str(x) for x in counts.index],\n",
    "                    locationmode=\"USA-states\",\n",
    "                    color=counts.values, range_color=[0, counts.max()],\n",
    "                    scope=\"usa\",\n",
    "                    color_continuous_scale=['white', 'red'])\n",
    "fig.show()\n"
   ]
  },
  {
   "cell_type": "code",
   "execution_count": null,
   "metadata": {
    "id": "vc3GctFyfgRu"
   },
   "outputs": [],
   "source": [
    "import imageio\n",
    "from IPython.display import Image\n",
    "from pathlib import Path\n",
    "\n",
    "\n",
    "counts = sights_df.groupby(['Date', 'Region']).size()\n",
    "plt_files = list()\n",
    "!mkdir -p map-plots\n",
    "\n",
    "for dt, dt_counts in counts.groupby('Date'):\n",
    "    date_lbl = dt.strftime('%F')\n",
    "    state_locs = [str(x) for x in dt_counts.index.get_level_values('Region')]\n",
    "\n",
    "    fig = px.choropleth(locations=state_locs, locationmode=\"USA-states\",\n",
    "                        title=date_lbl, scope='usa',\n",
    "                        color=dt_counts.values, range_color=[0, 100],\n",
    "                        color_continuous_scale=['white', 'black'])\n",
    "\n",
    "    plt_file = Path(\"map-plots\", f\"counts_{date_lbl}.png\")\n",
    "    fig.write_image(plt_file, format='png')\n",
    "    plt_files += [imageio.v2.imread(plt_file)]\n",
    "\n",
    "imageio.mimsave(Path(\"map-plots\", \"counts.gif\"), plt_files, duration=0.03)\n",
    "Image(filename=str(Path(\"map-plots\", \"counts.gif\")))\n"
   ]
  },
  {
   "cell_type": "code",
   "execution_count": null,
   "metadata": {
    "id": "sJ-Wd3RdENOZ"
   },
   "outputs": [],
   "source": [
    "%matplotlib inline\n",
    "import matplotlib.pyplot as plt\n",
    "plt.rcParams[\"figure.figsize\"] = (14, 9)\n",
    "\n",
    "import numpy as np\n",
    "\n",
    "from skits.preprocessing import ReversibleImputer\n",
    "from skits.pipeline import ForecasterPipeline\n",
    "from skits.feature_extraction import (AutoregressiveTransformer,\n",
    "                                      SeasonalTransformer)\n",
    "\n",
    "from sklearn.linear_model import LinearRegression, LogisticRegression, Ridge\n",
    "from sklearn.ensemble import (RandomForestClassifier,\n",
    "                              GradientBoostingClassifier,\n",
    "                              RandomForestRegressor)\n",
    "\n",
    "from sklearn.pipeline import FeatureUnion\n",
    "from sklearn.preprocessing import StandardScaler\n",
    "from sklearn.model_selection import TimeSeriesSplit\n",
    "\n",
    "\n",
    "pipeline = ForecasterPipeline([\n",
    "    ('pre_scaler', StandardScaler()),\n",
    "    ('features', FeatureUnion([\n",
    "        ('ar_features', AutoregressiveTransformer(num_lags=1)),\n",
    "        ('seasonal_features', SeasonalTransformer(seasonal_period=1)),\n",
    "    ])),\n",
    "    ('post_feature_imputer', ReversibleImputer()),\n",
    "    ('post_feature_scaler', StandardScaler()),\n",
    "    ('regressor', LinearRegression(fit_intercept=True))\n",
    "    ])\n",
    "\n",
    "tscv = TimeSeriesSplit(n_splits=4)\n",
    "ca_counts = counts.loc[(slice(None), 'CA')]\n",
    "ca_dates = ca_counts.index.get_level_values('Date').values.reshape(-1, 1)\n",
    "ca_values = ca_counts.values\n",
    "\n",
    "real_values = list()\n",
    "pred_values = list()\n",
    "\n",
    "for train_index, test_index in tscv.split(ca_counts):\n",
    "    pipeline.fit(ca_dates[train_index], ca_values[train_index])\n",
    "    preds = pipeline.predict(ca_dates[test_index], to_scale=True)\n",
    "\n",
    "    real_values += ca_values[test_index].flatten().tolist()\n",
    "    pred_values += preds.flatten().tolist()\n",
    "\n",
    "    plt.plot(ca_dates[test_index], ca_values[test_index], color='black')\n",
    "    plt.plot(ca_dates[test_index], preds, color='red')\n",
    "\n",
    "rmse_val = ((np.array(real_values) - np.array(pred_values)) ** 2).mean() ** 0.5\n",
    "print(f\"RMSE: {format(rmse_val, '.3f')}\")\n"
   ]
  }
 ],
 "metadata": {
  "colab": {
   "private_outputs": true,
   "provenance": []
  },
  "kernelspec": {
   "display_name": "Python 3",
   "name": "python3"
  },
  "language_info": {
   "name": "python"
  },
  "gpuClass": "standard"
 },
 "nbformat": 4,
 "nbformat_minor": 0
}
